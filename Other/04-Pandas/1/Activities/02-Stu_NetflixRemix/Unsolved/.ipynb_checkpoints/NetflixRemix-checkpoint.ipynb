{
 "cells": [
  {
   "cell_type": "code",
   "execution_count": 2,
   "metadata": {},
   "outputs": [],
   "source": [
    "# Modules\n",
    "import os\n",
    "import csv\n",
    "\n",
    "# Set path for file\n",
    "csvpath = os.path.join(\"Resources\", \"netflix_ratings.csv\")"
   ]
  },
  {
   "cell_type": "code",
   "execution_count": 3,
   "metadata": {},
   "outputs": [
    {
     "name": "stdout",
     "output_type": "stream",
     "text": [
      "What show or movie are you looking for? Last Man Standing\n"
     ]
    }
   ],
   "source": [
    "# Prompt user for video lookup\n",
    "video = input(\"What show or movie are you looking for? \")"
   ]
  },
  {
   "cell_type": "code",
   "execution_count": 7,
   "metadata": {},
   "outputs": [
    {
     "name": "stdout",
     "output_type": "stream",
     "text": [
      "Resources/netflix_ratings.csv\n"
     ]
    }
   ],
   "source": []
  },
  {
   "cell_type": "code",
   "execution_count": 4,
   "metadata": {},
   "outputs": [
    {
     "name": "stdout",
     "output_type": "stream",
     "text": [
      "Last Man Standing is rated TV-PG with a rating of 80\n"
     ]
    }
   ],
   "source": [
    "found = False\n",
    "\n",
    "# Open the CSV\n",
    "with open(csvpath, newline=\"\") as csvfile:\n",
    "    csvreader = csv.reader(csvfile, delimiter=\",\")\n",
    "\n",
    "    # Loop through looking for the video\n",
    "    for row in csvreader:\n",
    "        if row[0] == video:\n",
    "            print(row[0] + \" is rated \" + row[1] + \" with a rating of \" + row[6])\n",
    "\n",
    "            # Set variable to confirm we have found the video\n",
    "            found = True\n",
    "\n",
    "    # If the video is never found, alert the user\n",
    "    if found is False:\n",
    "        print(\"Sorry about this, we don't seem to have what you are looking for!\")\n"
   ]
  },
  {
   "cell_type": "code",
   "execution_count": null,
   "metadata": {},
   "outputs": [],
   "source": []
  }
 ],
 "metadata": {
  "kernelspec": {
   "display_name": "Python 3",
   "language": "python",
   "name": "python3"
  },
  "language_info": {
   "codemirror_mode": {
    "name": "ipython",
    "version": 3
   },
   "file_extension": ".py",
   "mimetype": "text/x-python",
   "name": "python",
   "nbconvert_exporter": "python",
   "pygments_lexer": "ipython3",
   "version": "3.7.3"
  }
 },
 "nbformat": 4,
 "nbformat_minor": 2
}
